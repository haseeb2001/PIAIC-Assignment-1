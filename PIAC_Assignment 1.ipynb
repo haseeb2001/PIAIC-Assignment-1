{
 "cells": [
  {
   "cell_type": "markdown",
   "metadata": {},
   "source": [
    "## 1. Calculate Area of a Circle"
   ]
  },
  {
   "cell_type": "markdown",
   "metadata": {},
   "source": [
    "#### Write a Python program which accepts the radius of a circle from the user and compute the area.\n",
    "###### Program Console Sample Output 1:\n",
    "###### Input Radius: 0.5\n",
    "###### Area of Circle with radius 0.5 is 0.7853981634"
   ]
  },
  {
   "cell_type": "code",
   "execution_count": 2,
   "metadata": {},
   "outputs": [
    {
     "name": "stdout",
     "output_type": "stream",
     "text": [
      "Enter radius :0.5\n",
      "Area of circle with radius 0.5 is 0.7855\n"
     ]
    }
   ],
   "source": [
    "radius=float(input(\"Enter radius :\"))\n",
    "area=3.142*(radius**2)\n",
    "print(f\"Area of circle with radius {radius} is {area}\")\n"
   ]
  },
  {
   "cell_type": "code",
   "execution_count": null,
   "metadata": {},
   "outputs": [],
   "source": []
  },
  {
   "cell_type": "code",
   "execution_count": null,
   "metadata": {},
   "outputs": [],
   "source": []
  },
  {
   "cell_type": "markdown",
   "metadata": {},
   "source": [
    "## 2. Check Number either positive, negative or zero"
   ]
  },
  {
   "cell_type": "markdown",
   "metadata": {},
   "source": [
    "#### Write a Python program to check if a number is positive, negative or zero\n",
    "###### Program Console Sample Output 1:\n",
    "###### Enter Number: -1\n",
    "##### Negative Number Entered\n",
    "###### Program Console Sample Output 2:\n",
    "##### Integer: 3\n",
    "##### Positive Number Entered\n",
    "###### Program Console Sample Output 3:\n",
    "##### Integer: 0\n",
    "###### Zero Entered"
   ]
  },
  {
   "cell_type": "code",
   "execution_count": null,
   "metadata": {},
   "outputs": [],
   "source": []
  },
  {
   "cell_type": "code",
   "execution_count": 3,
   "metadata": {},
   "outputs": [
    {
     "name": "stdout",
     "output_type": "stream",
     "text": [
      "Enter your number :-1\n",
      "Negative number Entered\n"
     ]
    }
   ],
   "source": [
    "num=int(input(\"Enter your number :\"))\n",
    "if (num==0):\n",
    "    print(\"Zero Entered\")\n",
    "elif (num>0):\n",
    "    print (\"Positive number Entered\")\n",
    "elif(num<0):\n",
    "    print(\"Negative number Entered\")"
   ]
  },
  {
   "cell_type": "code",
   "execution_count": 4,
   "metadata": {},
   "outputs": [
    {
     "name": "stdout",
     "output_type": "stream",
     "text": [
      "Enter your number :3\n",
      "Positive number Entered\n"
     ]
    }
   ],
   "source": [
    "num=int(input(\"Enter your number :\"))\n",
    "if (num==0):\n",
    "    print(\"Zero Entered\")\n",
    "elif (num>0):\n",
    "    print (\"Positive number Entered\")\n",
    "elif(num<0):\n",
    "    print(\"Negative number Entered\")"
   ]
  },
  {
   "cell_type": "code",
   "execution_count": 5,
   "metadata": {},
   "outputs": [
    {
     "name": "stdout",
     "output_type": "stream",
     "text": [
      "Enter your number :0\n",
      "Zero Entered\n"
     ]
    }
   ],
   "source": [
    "num=int(input(\"Enter your number :\"))\n",
    "if (num==0):\n",
    "    print(\"Zero Entered\")\n",
    "elif (num>0):\n",
    "    print (\"Positive number Entered\")\n",
    "elif(num<0):\n",
    "    print(\"Negative number Entered\")"
   ]
  },
  {
   "cell_type": "markdown",
   "metadata": {},
   "source": [
    "## 3. Divisibility Check of two numbers"
   ]
  },
  {
   "cell_type": "markdown",
   "metadata": {},
   "source": [
    "#### Write a Python program to check whether a number is completely divisible by another number. Accept two integer values form the user\n",
    "##### Program Console Sample Output 1:\n",
    "###### Enter numerator: 4\n",
    "###### Enter Denominator: 2\n",
    "##### Number 4 is Completely divisible by 2\n",
    "###### Program Console Sample Output 2:\n",
    "##### Enter numerator: 7\n",
    "\n",
    "##### Enter Denominator: 4\n",
    "###### Number 7 is not Completely divisible by 4"
   ]
  },
  {
   "cell_type": "code",
   "execution_count": 8,
   "metadata": {},
   "outputs": [
    {
     "name": "stdout",
     "output_type": "stream",
     "text": [
      "Enter numerator :4\n",
      "Enter Denominator :2\n",
      "Number  4 is completely divisible by  2\n"
     ]
    }
   ],
   "source": [
    "numer=int(input(\"Enter numerator :\"))\n",
    "den=int(input(\"Enter Denominator :\"))\n",
    "if (numer%den==0):\n",
    "    print(\"Number \",numer ,\"is completely divisible by \",den)\n",
    "else:\n",
    "    print(\"Number \",numer ,\"is not completely divisible by \",den)"
   ]
  },
  {
   "cell_type": "code",
   "execution_count": 9,
   "metadata": {},
   "outputs": [
    {
     "name": "stdout",
     "output_type": "stream",
     "text": [
      "Enter numerator :7\n",
      "Enter Denominator :5\n",
      "Number  7 is not completely divisible by  5\n"
     ]
    }
   ],
   "source": [
    "numer=int(input(\"Enter numerator :\"))\n",
    "den=int(input(\"Enter Denominator :\"))\n",
    "if (numer%den==0):\n",
    "    print(\"Number \",numer ,\"is completely divisible by \",den)\n",
    "else:\n",
    "    print(\"Number \",numer ,\"is not completely divisible by \",den)"
   ]
  },
  {
   "cell_type": "markdown",
   "metadata": {},
   "source": [
    "## 4. Calculate Volume of a sphere"
   ]
  },
  {
   "cell_type": "markdown",
   "metadata": {},
   "source": [
    "##### Write a Python program to get the volume of a sphere, please take the radius as input from user"
   ]
  },
  {
   "cell_type": "markdown",
   "metadata": {},
   "source": [
    "##### Program Console Output:\n",
    "##### Enter Radius of Sphere: 1\n",
    "###### Volume of the Sphere with Radius 1 is 4.18"
   ]
  },
  {
   "cell_type": "code",
   "execution_count": 10,
   "metadata": {},
   "outputs": [
    {
     "name": "stdout",
     "output_type": "stream",
     "text": [
      "Enter Radius of Sphere :1\n",
      "Volume of sphere with radius  1.0  is 4.189333333333333\n"
     ]
    }
   ],
   "source": [
    "rad_sp=float(input(\"Enter Radius of Sphere :\"))\n",
    "vol_sp=4/3*3.142*(rad_sp**3)\n",
    "print(\"Volume of sphere with radius \",rad_sp,\" is\" ,vol_sp)"
   ]
  },
  {
   "cell_type": "markdown",
   "metadata": {},
   "source": [
    "## 5. Copy string n times\n",
    "#### Write a Python program to get a string which is n (non-negative integer) copies of a given string.\n",
    "##### Program Console Output:\n",
    "##### Enter String: Hi\n",
    "###### How many copies of String you need: 4\n",
    "###### 4 Copies of Hi are HiHiHiHi"
   ]
  },
  {
   "cell_type": "code",
   "execution_count": 13,
   "metadata": {},
   "outputs": [
    {
     "name": "stdout",
     "output_type": "stream",
     "text": [
      "Enter String :Hi\n",
      "How many copies of String you need :4\n",
      "4 of string are HiHiHiHi"
     ]
    }
   ],
   "source": [
    "string=input(\"Enter String :\")\n",
    "cop=int(input(\"How many copies of String you need :\"))\n",
    "print(f\"{cop} of string are\",end=\" \")\n",
    "for i in range(cop):\n",
    "    print(string,end=\"\")"
   ]
  },
  {
   "cell_type": "markdown",
   "metadata": {},
   "source": [
    "## 6. Check if number is Even or Odd\n",
    "### Write a Python program to find whether a given number (accept from the user) is even or odd, print out an appropriate message to the user\n",
    "#### Program Console Output 1:\n",
    "##### Enter Number: 4\n",
    "###### 4 is Even\n",
    "#### Program Console Output 2:\n",
    "##### Enter Number: 9\n",
    "###### 9 is Odd"
   ]
  },
  {
   "cell_type": "code",
   "execution_count": 14,
   "metadata": {},
   "outputs": [
    {
     "name": "stdout",
     "output_type": "stream",
     "text": [
      "Enter Number :4\n",
      "4  is Even\n"
     ]
    }
   ],
   "source": [
    "numm=int(input(\"Enter Number :\"))\n",
    "if (numm%2==0):\n",
    "    print(numm,\" is Even\")\n",
    "else:\n",
    "    print(numm,\" is odd\")"
   ]
  },
  {
   "cell_type": "code",
   "execution_count": 15,
   "metadata": {},
   "outputs": [
    {
     "name": "stdout",
     "output_type": "stream",
     "text": [
      "Enter Number :9\n",
      "9  is odd\n"
     ]
    }
   ],
   "source": [
    "numm=int(input(\"Enter Number :\"))\n",
    "if (numm%2==0):\n",
    "    print(numm,\" is Even\")\n",
    "else:\n",
    "    print(numm,\" is odd\")"
   ]
  },
  {
   "cell_type": "markdown",
   "metadata": {},
   "source": [
    "## 7. Vowel Tester\n",
    "### Write a Python program to test whether a passed letter is a vowel or not\n",
    "#### Program Console Output 1:\n",
    "##### Enter a character: A\n",
    "###### Letter A is Vowel\n",
    "#### Program Console Output 2:\n",
    "##### Enter a character: e\n",
    "###### Letter e is Vowel\n",
    "#### Program Console Output 2:\n",
    "##### Enter a character: N\n",
    "###### Letter N is not Vowel"
   ]
  },
  {
   "cell_type": "code",
   "execution_count": 16,
   "metadata": {},
   "outputs": [
    {
     "name": "stdout",
     "output_type": "stream",
     "text": [
      "Enter a character :A\n",
      "Letter A is Vowel\n"
     ]
    }
   ],
   "source": [
    "char=input(\"Enter a character :\")\n",
    "\n",
    "if(char=='a'or char=='e'or char=='i'or char=='o'or char=='u'or\n",
    "   char=='A'or char=='E'or char=='I'or char=='O'or char=='U'):\n",
    "    print(\"Letter\",char ,\"is Vowel\")\n",
    "else:\n",
    "    print(\"Letter\",char,\"is not Vowel\")"
   ]
  },
  {
   "cell_type": "code",
   "execution_count": 17,
   "metadata": {},
   "outputs": [
    {
     "name": "stdout",
     "output_type": "stream",
     "text": [
      "Enter a character :e\n",
      "Letter e is Vowel\n"
     ]
    }
   ],
   "source": [
    "char=input(\"Enter a character :\")\n",
    "\n",
    "if(char=='a'or char=='e'or char=='i'or char=='o'or char=='u'or\n",
    "   char=='A'or char=='E'or char=='I'or char=='O'or char=='U'):\n",
    "    print(\"Letter\",char ,\"is Vowel\")\n",
    "else:\n",
    "    print(\"Letter\",char,\"is not Vowel\")"
   ]
  },
  {
   "cell_type": "code",
   "execution_count": 18,
   "metadata": {},
   "outputs": [
    {
     "name": "stdout",
     "output_type": "stream",
     "text": [
      "Enter a character :N\n",
      "Letter N is not Vowel\n"
     ]
    }
   ],
   "source": [
    "char=input(\"Enter a character :\")\n",
    "\n",
    "if(char=='a'or char=='e'or char=='i'or char=='o'or char=='u'or\n",
    "   char=='A'or char=='E'or char=='I'or char=='O'or char=='U'):\n",
    "    print(\"Letter\",char ,\"is Vowel\")\n",
    "else:\n",
    "    print(\"Letter\",char,\"is not Vowel\")"
   ]
  },
  {
   "cell_type": "markdown",
   "metadata": {},
   "source": [
    "## 8. Triangle area\n",
    "### Write a Python program that will accept the base and height of a triangle and compute the area\n",
    "###### Reference:\n",
    "https://www.mathgoodies.com/lessons/vol1/area_triangle"
   ]
  },
  {
   "cell_type": "code",
   "execution_count": 19,
   "metadata": {},
   "outputs": [
    {
     "name": "stdout",
     "output_type": "stream",
     "text": [
      "Enter Base :10\n",
      "Enter Height :5\n",
      "Area =  25.0\n"
     ]
    }
   ],
   "source": [
    "base=int(input(\"Enter Base :\"))\n",
    "height=int(input(\"Enter Height :\"))\n",
    "ar_triangle= 1/2*(base*height)\n",
    "print(\"Area = \",ar_triangle)"
   ]
  },
  {
   "cell_type": "markdown",
   "metadata": {},
   "source": [
    "## 9. Calculate Interest\n",
    "### Write a Python program to compute the future value of a specified principal amount, rate of interest, and a number of years\n",
    "#### Program Console Sample 1:\n",
    "##### Please enter principal amount: 10000\n",
    "###### Please Enter Rate of interest in %: 0.1\n",
    "###### Enter number of years for investment: 5\n",
    "###### After 5 years your principal amount 10000 over an interest rate of 0.1 % will be 16105.1"
   ]
  },
  {
   "cell_type": "code",
   "execution_count": 2,
   "metadata": {},
   "outputs": [
    {
     "name": "stdout",
     "output_type": "stream",
     "text": [
      "Please enter principal amount: 10000\n",
      "Please Enter Rate of interest in %: 0.1\n",
      "Enter number of years for investment :5\n",
      "After 5  years your principal amount 10000  over an interest rate of 0.1 % will be 16105.1\n"
     ]
    }
   ],
   "source": [
    " amount=int(input(\"Please enter principal amount: \"))\n",
    "rate=float(input(\"Please Enter Rate of interest in %: \"))\n",
    "year=int(input(\"Enter number of years for investment :\"))\n",
    "inc_amount=amount\n",
    "for i in range (year):\n",
    "    inc_amount=inc_amount+(inc_amount*rate)\n",
    "print(\"After\", year,\" years your principal amount\", amount,\" over an interest rate of\", rate,\"% will be\",inc_amount)"
   ]
  },
  {
   "cell_type": "markdown",
   "metadata": {},
   "source": [
    "## 10. Euclidean distance\n",
    "### write a Python program to compute the distance between the points (x1, y1) and (x2, y2).\n",
    "#### Program Console Sample 1:\n",
    "###### Enter Co-ordinate for x1: 2\n",
    "###### Enter Co-ordinate for x2: 4\n",
    "###### Enter Co-ordinate for y1: 4\n",
    "###### Enter Co-ordinate for y2: 4\n",
    "###### Distance between points (2, 4) and (4, 4) is 2"
   ]
  },
  {
   "cell_type": "markdown",
   "metadata": {},
   "source": [
    "###### Reference:\n",
    "https://en.wikipedia.org/wiki/Euclidean_distance"
   ]
  },
  {
   "cell_type": "code",
   "execution_count": 4,
   "metadata": {},
   "outputs": [
    {
     "name": "stdout",
     "output_type": "stream",
     "text": [
      "Enter Co-ordinate for x1 :2\n",
      "Enter Co-ordinate for x2 :4\n",
      "Enter Co-ordinate for y1 :4\n",
      "Enter Co-ordinate for y2 :4\n",
      "Distance between points (2,4) and (4,4 is 2.0)\n"
     ]
    }
   ],
   "source": [
    "a=int(input(\"Enter Co-ordinate for x1 :\"))\n",
    "b=int(input(\"Enter Co-ordinate for x2 :\"))\n",
    "c=int(input(\"Enter Co-ordinate for y1 :\"))\n",
    "d=int(input(\"Enter Co-ordinate for y2 :\"))\n",
    "res=(((c-a)**2)+((d-b)**2))**0.5\n",
    "print(f\"Distance between points ({a},{b}) and ({c},{d} is {res})\")\n"
   ]
  },
  {
   "cell_type": "markdown",
   "metadata": {},
   "source": [
    "## 11. Feet to Centimeter Converter\n",
    "### Write a Python program to convert height in feet to centimetres.\n",
    "##### Program Console Sample 1:\n",
    "###### Enter Height in Feet: 5\n",
    "###### There are 152.4 Cm in 5 ft\n",
    "###### Reference:\n",
    "https://www.rapidtables.com/convert/length/feet-to-cm.html"
   ]
  },
  {
   "cell_type": "code",
   "execution_count": 5,
   "metadata": {},
   "outputs": [
    {
     "name": "stdout",
     "output_type": "stream",
     "text": [
      "Enter Height in feet :5\n",
      "There are 152.4 Cm in 5 ft\n"
     ]
    }
   ],
   "source": [
    "feet=int(input(\"Enter Height in feet :\"))\n",
    "cm=feet*30.48\n",
    "print(\"There are\",cm,\"Cm in\",feet,\"ft\")\n"
   ]
  },
  {
   "cell_type": "markdown",
   "metadata": {},
   "source": [
    "## 12. BMI Calculator\n",
    "### Write a Python program to calculate body mass index\n",
    "##### Program Console Sample 1:\n",
    "###### Enter Height in Cm: 180\n",
    "###### Enter Weight in Kg: 75\n",
    "###### Your BMI is 23.15"
   ]
  },
  {
   "cell_type": "code",
   "execution_count": 6,
   "metadata": {},
   "outputs": [
    {
     "name": "stdout",
     "output_type": "stream",
     "text": [
      "Enter Height in Cm :180\n",
      "Enter Weight in Kg :75\n",
      "Your BMI is 23.148148148148145\n"
     ]
    }
   ],
   "source": [
    "height_cm=int(input(\"Enter Height in Cm :\"))\n",
    "weight_kg=int(input(\"Enter Weight in Kg :\"))\n",
    "height_cm=(height_cm/100)**2\n",
    "bm=weight_kg/height_cm\n",
    "print(\"Your BMI is\",bm)"
   ]
  },
  {
   "cell_type": "markdown",
   "metadata": {},
   "source": [
    "## 13. Sum of n Positive Integers\n",
    "### Write a python program to sum of the first n positive integers\n",
    "#### Program Console Sample 1:\n",
    "###### Enter value of n: 5\n",
    "###### Sum of n Positive integers till 5 is 15"
   ]
  },
  {
   "cell_type": "code",
   "execution_count": 7,
   "metadata": {},
   "outputs": [
    {
     "name": "stdout",
     "output_type": "stream",
     "text": [
      "Enter value of n :5\n",
      "Sum of n Positive integers till 5 is 15\n"
     ]
    }
   ],
   "source": [
    "n=int(input(\"Enter value of n :\"))\n",
    "k=1\n",
    "summ=0\n",
    "for i in range(n):\n",
    "    summ+=k\n",
    "    k+=1\n",
    "print(\"Sum of n Positive integers till\",n,\"is\",summ)"
   ]
  },
  {
   "cell_type": "markdown",
   "metadata": {},
   "source": [
    "## 14. Digits Sum of a Number\n",
    "### Write a Python program to calculate the sum of the digits in an integer\n",
    "#### Program Console Sample 1:\n",
    "##### Enter a number: 15\n",
    "###### Sum of 1 + 5 is 6\n",
    "#### Program Console Sample 2:\n",
    "##### Enter a number: 1234\n",
    "###### Sum of 1 + 2 + 3 + 4 is 10"
   ]
  },
  {
   "cell_type": "code",
   "execution_count": 8,
   "metadata": {},
   "outputs": [
    {
     "name": "stdout",
     "output_type": "stream",
     "text": [
      "Enter a number :15\n",
      "The total sum of digits is: 6\n"
     ]
    }
   ],
   "source": [
    "inn=int(input(\"Enter a number :\"))\n",
    "total=0\n",
    "while(inn>0):\n",
    "    dig=inn%10\n",
    "    total=total+dig\n",
    "    inn=inn//10\n",
    "        \n",
    "print(\"The total sum of digits is:\",total)"
   ]
  },
  {
   "cell_type": "code",
   "execution_count": 9,
   "metadata": {},
   "outputs": [
    {
     "name": "stdout",
     "output_type": "stream",
     "text": [
      "Enter a number :1234\n",
      "The total sum of digits is: 10\n"
     ]
    }
   ],
   "source": [
    "inn=int(input(\"Enter a number :\"))\n",
    "total=0\n",
    "while(inn>0):\n",
    "    dig=inn%10\n",
    "    total=total+dig\n",
    "    inn=inn//10\n",
    "        \n",
    "print(\"The total sum of digits is:\",total)"
   ]
  }
 ],
 "metadata": {
  "kernelspec": {
   "display_name": "Python 3",
   "language": "python",
   "name": "python3"
  },
  "language_info": {
   "codemirror_mode": {
    "name": "ipython",
    "version": 3
   },
   "file_extension": ".py",
   "mimetype": "text/x-python",
   "name": "python",
   "nbconvert_exporter": "python",
   "pygments_lexer": "ipython3",
   "version": "3.7.3"
  }
 },
 "nbformat": 4,
 "nbformat_minor": 2
}
